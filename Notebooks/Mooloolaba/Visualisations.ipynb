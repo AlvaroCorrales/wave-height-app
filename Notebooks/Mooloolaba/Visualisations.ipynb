{
 "cells": [
  {
   "cell_type": "code",
   "execution_count": 4,
   "metadata": {},
   "outputs": [],
   "source": [
    "import pandas as pd\n",
    "import plotly.graph_objects as go\n"
   ]
  },
  {
   "cell_type": "code",
   "execution_count": 5,
   "metadata": {},
   "outputs": [
    {
     "data": {
      "text/html": [
       "<div>\n",
       "<style scoped>\n",
       "    .dataframe tbody tr th:only-of-type {\n",
       "        vertical-align: middle;\n",
       "    }\n",
       "\n",
       "    .dataframe tbody tr th {\n",
       "        vertical-align: top;\n",
       "    }\n",
       "\n",
       "    .dataframe thead th {\n",
       "        text-align: right;\n",
       "    }\n",
       "</style>\n",
       "<table border=\"1\" class=\"dataframe\">\n",
       "  <thead>\n",
       "    <tr style=\"text-align: right;\">\n",
       "      <th></th>\n",
       "      <th>wave_direction</th>\n",
       "      <th>wave_height</th>\n",
       "      <th>wave_period</th>\n",
       "    </tr>\n",
       "    <tr>\n",
       "      <th>datetime</th>\n",
       "      <th></th>\n",
       "      <th></th>\n",
       "      <th></th>\n",
       "    </tr>\n",
       "  </thead>\n",
       "  <tbody>\n",
       "    <tr>\n",
       "      <th>2024-08-13 00:00:00</th>\n",
       "      <td>90.194460</td>\n",
       "      <td>4.575471</td>\n",
       "      <td>6.047095</td>\n",
       "    </tr>\n",
       "    <tr>\n",
       "      <th>2024-08-13 00:30:00</th>\n",
       "      <td>90.487054</td>\n",
       "      <td>4.528628</td>\n",
       "      <td>6.051239</td>\n",
       "    </tr>\n",
       "    <tr>\n",
       "      <th>2024-08-13 01:00:00</th>\n",
       "      <td>90.860984</td>\n",
       "      <td>4.480879</td>\n",
       "      <td>6.050688</td>\n",
       "    </tr>\n",
       "    <tr>\n",
       "      <th>2024-08-13 01:30:00</th>\n",
       "      <td>90.498948</td>\n",
       "      <td>4.438721</td>\n",
       "      <td>6.029083</td>\n",
       "    </tr>\n",
       "    <tr>\n",
       "      <th>2024-08-13 02:00:00</th>\n",
       "      <td>90.567556</td>\n",
       "      <td>4.475573</td>\n",
       "      <td>6.012432</td>\n",
       "    </tr>\n",
       "  </tbody>\n",
       "</table>\n",
       "</div>"
      ],
      "text/plain": [
       "                     wave_direction  wave_height  wave_period\n",
       "datetime                                                     \n",
       "2024-08-13 00:00:00       90.194460     4.575471     6.047095\n",
       "2024-08-13 00:30:00       90.487054     4.528628     6.051239\n",
       "2024-08-13 01:00:00       90.860984     4.480879     6.050688\n",
       "2024-08-13 01:30:00       90.498948     4.438721     6.029083\n",
       "2024-08-13 02:00:00       90.567556     4.475573     6.012432"
      ]
     },
     "execution_count": 5,
     "metadata": {},
     "output_type": "execute_result"
    }
   ],
   "source": [
    "df = pd.read_csv('../../Data/predictions/predictions.csv')\n",
    "df['datetime'] = pd.to_datetime(df['datetime'])\n",
    "df.set_index(keys = 'datetime', inplace=True)\n",
    "df = df.asfreq('30min')\n",
    "df.head()"
   ]
  },
  {
   "cell_type": "code",
   "execution_count": 6,
   "metadata": {},
   "outputs": [
    {
     "data": {
      "text/html": [
       "<div>\n",
       "<style scoped>\n",
       "    .dataframe tbody tr th:only-of-type {\n",
       "        vertical-align: middle;\n",
       "    }\n",
       "\n",
       "    .dataframe tbody tr th {\n",
       "        vertical-align: top;\n",
       "    }\n",
       "\n",
       "    .dataframe thead th {\n",
       "        text-align: right;\n",
       "    }\n",
       "</style>\n",
       "<table border=\"1\" class=\"dataframe\">\n",
       "  <thead>\n",
       "    <tr style=\"text-align: right;\">\n",
       "      <th></th>\n",
       "      <th>wave_direction</th>\n",
       "    </tr>\n",
       "    <tr>\n",
       "      <th>datetime</th>\n",
       "      <th></th>\n",
       "    </tr>\n",
       "  </thead>\n",
       "  <tbody>\n",
       "    <tr>\n",
       "      <th>2024-08-13 00:00:00</th>\n",
       "      <td>90.194460</td>\n",
       "    </tr>\n",
       "    <tr>\n",
       "      <th>2024-08-13 00:30:00</th>\n",
       "      <td>90.487054</td>\n",
       "    </tr>\n",
       "    <tr>\n",
       "      <th>2024-08-13 01:00:00</th>\n",
       "      <td>90.860984</td>\n",
       "    </tr>\n",
       "    <tr>\n",
       "      <th>2024-08-13 01:30:00</th>\n",
       "      <td>90.498948</td>\n",
       "    </tr>\n",
       "    <tr>\n",
       "      <th>2024-08-13 02:00:00</th>\n",
       "      <td>90.567556</td>\n",
       "    </tr>\n",
       "  </tbody>\n",
       "</table>\n",
       "</div>"
      ],
      "text/plain": [
       "                     wave_direction\n",
       "datetime                           \n",
       "2024-08-13 00:00:00       90.194460\n",
       "2024-08-13 00:30:00       90.487054\n",
       "2024-08-13 01:00:00       90.860984\n",
       "2024-08-13 01:30:00       90.498948\n",
       "2024-08-13 02:00:00       90.567556"
      ]
     },
     "execution_count": 6,
     "metadata": {},
     "output_type": "execute_result"
    }
   ],
   "source": [
    "df_dir = pd.DataFrame(index = df.index)\n",
    "df_dir['wave_direction'] = df[['wave_direction']]\n",
    "df_dir.head()"
   ]
  },
  {
   "cell_type": "code",
   "execution_count": 7,
   "metadata": {},
   "outputs": [],
   "source": [
    "def name_my_direction(deg:float):\n",
    "    '''\n",
    "    Maps directions in degrees to direction names (north, south, etc.)\n",
    "    '''\n",
    "    \n",
    "    if 0 <= deg < 22.5:\n",
    "        dir = 'NORTH'\n",
    "    elif 22.5 <= deg < 67.5:\n",
    "        dir = 'NORTHEAST'\n",
    "    elif 67.5 <= deg < 112.5:\n",
    "        dir = 'EAST'\n",
    "    elif 112.5 <= deg < 157.5:\n",
    "        dir = 'SOUTHEAST'\n",
    "    elif 157.5 <= deg < 202.5:\n",
    "        dir = 'SOUTH'\n",
    "    elif 202.5 <= deg < 247.5:\n",
    "        dir = 'SOUTHWEST'\n",
    "    elif 247.5 <= deg < 292.5:\n",
    "        dir = 'WEST'\n",
    "    elif 292.5 <= deg < 337.5:\n",
    "        dir = 'NORTHWEST'\n",
    "    elif 337.5 <= deg < 360:\n",
    "        dir = 'NORTH'\n",
    "    else:\n",
    "        dir = 'ERROR'\n",
    "    return dir\n"
   ]
  },
  {
   "cell_type": "code",
   "execution_count": 8,
   "metadata": {},
   "outputs": [],
   "source": [
    "df_dir['direction_string'] = df_dir['wave_direction'].apply(lambda x: name_my_direction(x))\n",
    "\n",
    "# Convert direction to categorical codes\n",
    "df_dir['direction_code'] = df_dir['direction_string'].astype('category').cat.codes\n"
   ]
  },
  {
   "cell_type": "code",
   "execution_count": 9,
   "metadata": {},
   "outputs": [
    {
     "data": {
      "text/html": [
       "<div>\n",
       "<style scoped>\n",
       "    .dataframe tbody tr th:only-of-type {\n",
       "        vertical-align: middle;\n",
       "    }\n",
       "\n",
       "    .dataframe tbody tr th {\n",
       "        vertical-align: top;\n",
       "    }\n",
       "\n",
       "    .dataframe thead th {\n",
       "        text-align: right;\n",
       "    }\n",
       "</style>\n",
       "<table border=\"1\" class=\"dataframe\">\n",
       "  <thead>\n",
       "    <tr style=\"text-align: right;\">\n",
       "      <th></th>\n",
       "      <th>wave_direction</th>\n",
       "      <th>direction_string</th>\n",
       "      <th>direction_code</th>\n",
       "    </tr>\n",
       "    <tr>\n",
       "      <th>datetime</th>\n",
       "      <th></th>\n",
       "      <th></th>\n",
       "      <th></th>\n",
       "    </tr>\n",
       "  </thead>\n",
       "  <tbody>\n",
       "    <tr>\n",
       "      <th>2024-08-13 00:00:00</th>\n",
       "      <td>90.194460</td>\n",
       "      <td>EAST</td>\n",
       "      <td>0</td>\n",
       "    </tr>\n",
       "    <tr>\n",
       "      <th>2024-08-13 00:30:00</th>\n",
       "      <td>90.487054</td>\n",
       "      <td>EAST</td>\n",
       "      <td>0</td>\n",
       "    </tr>\n",
       "    <tr>\n",
       "      <th>2024-08-13 01:00:00</th>\n",
       "      <td>90.860984</td>\n",
       "      <td>EAST</td>\n",
       "      <td>0</td>\n",
       "    </tr>\n",
       "    <tr>\n",
       "      <th>2024-08-13 01:30:00</th>\n",
       "      <td>90.498948</td>\n",
       "      <td>EAST</td>\n",
       "      <td>0</td>\n",
       "    </tr>\n",
       "    <tr>\n",
       "      <th>2024-08-13 02:00:00</th>\n",
       "      <td>90.567556</td>\n",
       "      <td>EAST</td>\n",
       "      <td>0</td>\n",
       "    </tr>\n",
       "  </tbody>\n",
       "</table>\n",
       "</div>"
      ],
      "text/plain": [
       "                     wave_direction direction_string  direction_code\n",
       "datetime                                                            \n",
       "2024-08-13 00:00:00       90.194460             EAST               0\n",
       "2024-08-13 00:30:00       90.487054             EAST               0\n",
       "2024-08-13 01:00:00       90.860984             EAST               0\n",
       "2024-08-13 01:30:00       90.498948             EAST               0\n",
       "2024-08-13 02:00:00       90.567556             EAST               0"
      ]
     },
     "execution_count": 9,
     "metadata": {},
     "output_type": "execute_result"
    }
   ],
   "source": [
    "df_dir.head()"
   ]
  },
  {
   "cell_type": "code",
   "execution_count": 10,
   "metadata": {},
   "outputs": [],
   "source": [
    "# import pandas as pd\n",
    "# import matplotlib.pyplot as plt\n",
    "\n",
    "# # Example DataFrame with unique timestamps\n",
    "# data = {\n",
    "#     'datetime': pd.date_range(start='2023-01-01', periods=8, freq='H'),\n",
    "#     'direction': ['NORTH', 'EAST', 'SOUTH', 'WEST', 'NORTH', 'NORTH', 'WEST', 'EAST']\n",
    "# }\n",
    "# df = pd.DataFrame(data)\n",
    "# df.set_index('datetime', inplace=True)\n",
    "\n",
    "# # Plotting the scatter plot\n",
    "# plt.figure(figsize=(12, 6))\n",
    "# plt.scatter(df.index, df['direction'], c=df['direction'].astype('category').cat.codes, cmap='tab10')\n",
    "# plt.title('Direction Over Time')\n",
    "# plt.xlabel('Time')\n",
    "# plt.ylabel('Direction')\n",
    "# plt.yticks(ticks=range(len(df['direction'].unique())), labels=df['direction'].unique())\n",
    "# plt.grid(True)\n",
    "# plt.show()\n"
   ]
  },
  {
   "cell_type": "code",
   "execution_count": 11,
   "metadata": {},
   "outputs": [],
   "source": [
    "# import pandas as pd\n",
    "# import matplotlib.pyplot as plt\n",
    "\n",
    "# # Example DataFrame with unique timestamps\n",
    "# data = {\n",
    "#     'datetime': pd.date_range(start='2023-01-01', periods=8, freq='H'),\n",
    "#     'direction': ['NORTH', 'EAST', 'SOUTH', 'WEST', 'NORTH', 'NORTH', 'WEST', 'EAST']\n",
    "# }\n",
    "# df = pd.DataFrame(data)\n",
    "# df.set_index('datetime', inplace=True)\n",
    "\n",
    "# # Convert direction to categorical codes\n",
    "# df['direction_code'] = df['direction'].astype('category').cat.codes\n",
    "\n",
    "# # Plotting the line plot with markers\n",
    "# plt.figure(figsize=(12, 6))\n",
    "# plt.plot(df.index, df['direction_code'], marker='o', linestyle='-', markersize=8)\n",
    "# plt.title('Direction Over Time')\n",
    "# plt.xlabel('Time')\n",
    "# plt.ylabel('Direction')\n",
    "# plt.yticks(ticks=range(len(df['direction'].unique())), labels=df['direction'].unique())\n",
    "# plt.grid(True)\n",
    "# plt.show()\n"
   ]
  },
  {
   "cell_type": "code",
   "execution_count": 38,
   "metadata": {},
   "outputs": [
    {
     "data": {
      "application/vnd.plotly.v1+json": {
       "config": {
        "plotlyServerURL": "https://plot.ly"
       },
       "data": [
        {
         "hoverinfo": "text",
         "line": {
          "width": 2
         },
         "marker": {
          "size": 10
         },
         "mode": "lines+markers",
         "text": [
          "EAST",
          "EAST",
          "EAST",
          "EAST",
          "EAST",
          "EAST",
          "EAST",
          "EAST",
          "EAST",
          "EAST",
          "EAST",
          "EAST",
          "EAST",
          "EAST",
          "EAST",
          "EAST",
          "EAST",
          "EAST",
          "EAST",
          "EAST",
          "EAST",
          "EAST",
          "EAST",
          "EAST"
         ],
         "type": "scatter",
         "x": [
          "2024-08-13T00:00:00",
          "2024-08-13T00:30:00",
          "2024-08-13T01:00:00",
          "2024-08-13T01:30:00",
          "2024-08-13T02:00:00",
          "2024-08-13T02:30:00",
          "2024-08-13T03:00:00",
          "2024-08-13T03:30:00",
          "2024-08-13T04:00:00",
          "2024-08-13T04:30:00",
          "2024-08-13T05:00:00",
          "2024-08-13T05:30:00",
          "2024-08-13T06:00:00",
          "2024-08-13T06:30:00",
          "2024-08-13T07:00:00",
          "2024-08-13T07:30:00",
          "2024-08-13T08:00:00",
          "2024-08-13T08:30:00",
          "2024-08-13T09:00:00",
          "2024-08-13T09:30:00",
          "2024-08-13T10:00:00",
          "2024-08-13T10:30:00",
          "2024-08-13T11:00:00",
          "2024-08-13T11:30:00"
         ],
         "y": [
          2,
          2,
          2,
          2,
          2,
          2,
          2,
          2,
          2,
          2,
          2,
          2,
          2,
          2,
          2,
          2,
          2,
          2,
          2,
          2,
          2,
          2,
          2,
          2
         ]
        }
       ],
       "layout": {
        "hovermode": "x unified",
        "template": {
         "data": {
          "bar": [
           {
            "error_x": {
             "color": "#2a3f5f"
            },
            "error_y": {
             "color": "#2a3f5f"
            },
            "marker": {
             "line": {
              "color": "#E5ECF6",
              "width": 0.5
             },
             "pattern": {
              "fillmode": "overlay",
              "size": 10,
              "solidity": 0.2
             }
            },
            "type": "bar"
           }
          ],
          "barpolar": [
           {
            "marker": {
             "line": {
              "color": "#E5ECF6",
              "width": 0.5
             },
             "pattern": {
              "fillmode": "overlay",
              "size": 10,
              "solidity": 0.2
             }
            },
            "type": "barpolar"
           }
          ],
          "carpet": [
           {
            "aaxis": {
             "endlinecolor": "#2a3f5f",
             "gridcolor": "white",
             "linecolor": "white",
             "minorgridcolor": "white",
             "startlinecolor": "#2a3f5f"
            },
            "baxis": {
             "endlinecolor": "#2a3f5f",
             "gridcolor": "white",
             "linecolor": "white",
             "minorgridcolor": "white",
             "startlinecolor": "#2a3f5f"
            },
            "type": "carpet"
           }
          ],
          "choropleth": [
           {
            "colorbar": {
             "outlinewidth": 0,
             "ticks": ""
            },
            "type": "choropleth"
           }
          ],
          "contour": [
           {
            "colorbar": {
             "outlinewidth": 0,
             "ticks": ""
            },
            "colorscale": [
             [
              0,
              "#0d0887"
             ],
             [
              0.1111111111111111,
              "#46039f"
             ],
             [
              0.2222222222222222,
              "#7201a8"
             ],
             [
              0.3333333333333333,
              "#9c179e"
             ],
             [
              0.4444444444444444,
              "#bd3786"
             ],
             [
              0.5555555555555556,
              "#d8576b"
             ],
             [
              0.6666666666666666,
              "#ed7953"
             ],
             [
              0.7777777777777778,
              "#fb9f3a"
             ],
             [
              0.8888888888888888,
              "#fdca26"
             ],
             [
              1,
              "#f0f921"
             ]
            ],
            "type": "contour"
           }
          ],
          "contourcarpet": [
           {
            "colorbar": {
             "outlinewidth": 0,
             "ticks": ""
            },
            "type": "contourcarpet"
           }
          ],
          "heatmap": [
           {
            "colorbar": {
             "outlinewidth": 0,
             "ticks": ""
            },
            "colorscale": [
             [
              0,
              "#0d0887"
             ],
             [
              0.1111111111111111,
              "#46039f"
             ],
             [
              0.2222222222222222,
              "#7201a8"
             ],
             [
              0.3333333333333333,
              "#9c179e"
             ],
             [
              0.4444444444444444,
              "#bd3786"
             ],
             [
              0.5555555555555556,
              "#d8576b"
             ],
             [
              0.6666666666666666,
              "#ed7953"
             ],
             [
              0.7777777777777778,
              "#fb9f3a"
             ],
             [
              0.8888888888888888,
              "#fdca26"
             ],
             [
              1,
              "#f0f921"
             ]
            ],
            "type": "heatmap"
           }
          ],
          "heatmapgl": [
           {
            "colorbar": {
             "outlinewidth": 0,
             "ticks": ""
            },
            "colorscale": [
             [
              0,
              "#0d0887"
             ],
             [
              0.1111111111111111,
              "#46039f"
             ],
             [
              0.2222222222222222,
              "#7201a8"
             ],
             [
              0.3333333333333333,
              "#9c179e"
             ],
             [
              0.4444444444444444,
              "#bd3786"
             ],
             [
              0.5555555555555556,
              "#d8576b"
             ],
             [
              0.6666666666666666,
              "#ed7953"
             ],
             [
              0.7777777777777778,
              "#fb9f3a"
             ],
             [
              0.8888888888888888,
              "#fdca26"
             ],
             [
              1,
              "#f0f921"
             ]
            ],
            "type": "heatmapgl"
           }
          ],
          "histogram": [
           {
            "marker": {
             "pattern": {
              "fillmode": "overlay",
              "size": 10,
              "solidity": 0.2
             }
            },
            "type": "histogram"
           }
          ],
          "histogram2d": [
           {
            "colorbar": {
             "outlinewidth": 0,
             "ticks": ""
            },
            "colorscale": [
             [
              0,
              "#0d0887"
             ],
             [
              0.1111111111111111,
              "#46039f"
             ],
             [
              0.2222222222222222,
              "#7201a8"
             ],
             [
              0.3333333333333333,
              "#9c179e"
             ],
             [
              0.4444444444444444,
              "#bd3786"
             ],
             [
              0.5555555555555556,
              "#d8576b"
             ],
             [
              0.6666666666666666,
              "#ed7953"
             ],
             [
              0.7777777777777778,
              "#fb9f3a"
             ],
             [
              0.8888888888888888,
              "#fdca26"
             ],
             [
              1,
              "#f0f921"
             ]
            ],
            "type": "histogram2d"
           }
          ],
          "histogram2dcontour": [
           {
            "colorbar": {
             "outlinewidth": 0,
             "ticks": ""
            },
            "colorscale": [
             [
              0,
              "#0d0887"
             ],
             [
              0.1111111111111111,
              "#46039f"
             ],
             [
              0.2222222222222222,
              "#7201a8"
             ],
             [
              0.3333333333333333,
              "#9c179e"
             ],
             [
              0.4444444444444444,
              "#bd3786"
             ],
             [
              0.5555555555555556,
              "#d8576b"
             ],
             [
              0.6666666666666666,
              "#ed7953"
             ],
             [
              0.7777777777777778,
              "#fb9f3a"
             ],
             [
              0.8888888888888888,
              "#fdca26"
             ],
             [
              1,
              "#f0f921"
             ]
            ],
            "type": "histogram2dcontour"
           }
          ],
          "mesh3d": [
           {
            "colorbar": {
             "outlinewidth": 0,
             "ticks": ""
            },
            "type": "mesh3d"
           }
          ],
          "parcoords": [
           {
            "line": {
             "colorbar": {
              "outlinewidth": 0,
              "ticks": ""
             }
            },
            "type": "parcoords"
           }
          ],
          "pie": [
           {
            "automargin": true,
            "type": "pie"
           }
          ],
          "scatter": [
           {
            "fillpattern": {
             "fillmode": "overlay",
             "size": 10,
             "solidity": 0.2
            },
            "type": "scatter"
           }
          ],
          "scatter3d": [
           {
            "line": {
             "colorbar": {
              "outlinewidth": 0,
              "ticks": ""
             }
            },
            "marker": {
             "colorbar": {
              "outlinewidth": 0,
              "ticks": ""
             }
            },
            "type": "scatter3d"
           }
          ],
          "scattercarpet": [
           {
            "marker": {
             "colorbar": {
              "outlinewidth": 0,
              "ticks": ""
             }
            },
            "type": "scattercarpet"
           }
          ],
          "scattergeo": [
           {
            "marker": {
             "colorbar": {
              "outlinewidth": 0,
              "ticks": ""
             }
            },
            "type": "scattergeo"
           }
          ],
          "scattergl": [
           {
            "marker": {
             "colorbar": {
              "outlinewidth": 0,
              "ticks": ""
             }
            },
            "type": "scattergl"
           }
          ],
          "scattermapbox": [
           {
            "marker": {
             "colorbar": {
              "outlinewidth": 0,
              "ticks": ""
             }
            },
            "type": "scattermapbox"
           }
          ],
          "scatterpolar": [
           {
            "marker": {
             "colorbar": {
              "outlinewidth": 0,
              "ticks": ""
             }
            },
            "type": "scatterpolar"
           }
          ],
          "scatterpolargl": [
           {
            "marker": {
             "colorbar": {
              "outlinewidth": 0,
              "ticks": ""
             }
            },
            "type": "scatterpolargl"
           }
          ],
          "scatterternary": [
           {
            "marker": {
             "colorbar": {
              "outlinewidth": 0,
              "ticks": ""
             }
            },
            "type": "scatterternary"
           }
          ],
          "surface": [
           {
            "colorbar": {
             "outlinewidth": 0,
             "ticks": ""
            },
            "colorscale": [
             [
              0,
              "#0d0887"
             ],
             [
              0.1111111111111111,
              "#46039f"
             ],
             [
              0.2222222222222222,
              "#7201a8"
             ],
             [
              0.3333333333333333,
              "#9c179e"
             ],
             [
              0.4444444444444444,
              "#bd3786"
             ],
             [
              0.5555555555555556,
              "#d8576b"
             ],
             [
              0.6666666666666666,
              "#ed7953"
             ],
             [
              0.7777777777777778,
              "#fb9f3a"
             ],
             [
              0.8888888888888888,
              "#fdca26"
             ],
             [
              1,
              "#f0f921"
             ]
            ],
            "type": "surface"
           }
          ],
          "table": [
           {
            "cells": {
             "fill": {
              "color": "#EBF0F8"
             },
             "line": {
              "color": "white"
             }
            },
            "header": {
             "fill": {
              "color": "#C8D4E3"
             },
             "line": {
              "color": "white"
             }
            },
            "type": "table"
           }
          ]
         },
         "layout": {
          "annotationdefaults": {
           "arrowcolor": "#2a3f5f",
           "arrowhead": 0,
           "arrowwidth": 1
          },
          "autotypenumbers": "strict",
          "coloraxis": {
           "colorbar": {
            "outlinewidth": 0,
            "ticks": ""
           }
          },
          "colorscale": {
           "diverging": [
            [
             0,
             "#8e0152"
            ],
            [
             0.1,
             "#c51b7d"
            ],
            [
             0.2,
             "#de77ae"
            ],
            [
             0.3,
             "#f1b6da"
            ],
            [
             0.4,
             "#fde0ef"
            ],
            [
             0.5,
             "#f7f7f7"
            ],
            [
             0.6,
             "#e6f5d0"
            ],
            [
             0.7,
             "#b8e186"
            ],
            [
             0.8,
             "#7fbc41"
            ],
            [
             0.9,
             "#4d9221"
            ],
            [
             1,
             "#276419"
            ]
           ],
           "sequential": [
            [
             0,
             "#0d0887"
            ],
            [
             0.1111111111111111,
             "#46039f"
            ],
            [
             0.2222222222222222,
             "#7201a8"
            ],
            [
             0.3333333333333333,
             "#9c179e"
            ],
            [
             0.4444444444444444,
             "#bd3786"
            ],
            [
             0.5555555555555556,
             "#d8576b"
            ],
            [
             0.6666666666666666,
             "#ed7953"
            ],
            [
             0.7777777777777778,
             "#fb9f3a"
            ],
            [
             0.8888888888888888,
             "#fdca26"
            ],
            [
             1,
             "#f0f921"
            ]
           ],
           "sequentialminus": [
            [
             0,
             "#0d0887"
            ],
            [
             0.1111111111111111,
             "#46039f"
            ],
            [
             0.2222222222222222,
             "#7201a8"
            ],
            [
             0.3333333333333333,
             "#9c179e"
            ],
            [
             0.4444444444444444,
             "#bd3786"
            ],
            [
             0.5555555555555556,
             "#d8576b"
            ],
            [
             0.6666666666666666,
             "#ed7953"
            ],
            [
             0.7777777777777778,
             "#fb9f3a"
            ],
            [
             0.8888888888888888,
             "#fdca26"
            ],
            [
             1,
             "#f0f921"
            ]
           ]
          },
          "colorway": [
           "#636efa",
           "#EF553B",
           "#00cc96",
           "#ab63fa",
           "#FFA15A",
           "#19d3f3",
           "#FF6692",
           "#B6E880",
           "#FF97FF",
           "#FECB52"
          ],
          "font": {
           "color": "#2a3f5f"
          },
          "geo": {
           "bgcolor": "white",
           "lakecolor": "white",
           "landcolor": "#E5ECF6",
           "showlakes": true,
           "showland": true,
           "subunitcolor": "white"
          },
          "hoverlabel": {
           "align": "left"
          },
          "hovermode": "closest",
          "mapbox": {
           "style": "light"
          },
          "paper_bgcolor": "white",
          "plot_bgcolor": "#E5ECF6",
          "polar": {
           "angularaxis": {
            "gridcolor": "white",
            "linecolor": "white",
            "ticks": ""
           },
           "bgcolor": "#E5ECF6",
           "radialaxis": {
            "gridcolor": "white",
            "linecolor": "white",
            "ticks": ""
           }
          },
          "scene": {
           "xaxis": {
            "backgroundcolor": "#E5ECF6",
            "gridcolor": "white",
            "gridwidth": 2,
            "linecolor": "white",
            "showbackground": true,
            "ticks": "",
            "zerolinecolor": "white"
           },
           "yaxis": {
            "backgroundcolor": "#E5ECF6",
            "gridcolor": "white",
            "gridwidth": 2,
            "linecolor": "white",
            "showbackground": true,
            "ticks": "",
            "zerolinecolor": "white"
           },
           "zaxis": {
            "backgroundcolor": "#E5ECF6",
            "gridcolor": "white",
            "gridwidth": 2,
            "linecolor": "white",
            "showbackground": true,
            "ticks": "",
            "zerolinecolor": "white"
           }
          },
          "shapedefaults": {
           "line": {
            "color": "#2a3f5f"
           }
          },
          "ternary": {
           "aaxis": {
            "gridcolor": "white",
            "linecolor": "white",
            "ticks": ""
           },
           "baxis": {
            "gridcolor": "white",
            "linecolor": "white",
            "ticks": ""
           },
           "bgcolor": "#E5ECF6",
           "caxis": {
            "gridcolor": "white",
            "linecolor": "white",
            "ticks": ""
           }
          },
          "title": {
           "x": 0.05
          },
          "xaxis": {
           "automargin": true,
           "gridcolor": "white",
           "linecolor": "white",
           "ticks": "",
           "title": {
            "standoff": 15
           },
           "zerolinecolor": "white",
           "zerolinewidth": 2
          },
          "yaxis": {
           "automargin": true,
           "gridcolor": "white",
           "linecolor": "white",
           "ticks": "",
           "title": {
            "standoff": 15
           },
           "zerolinecolor": "white",
           "zerolinewidth": 2
          }
         }
        },
        "title": {
         "text": "Direction Over Time"
        },
        "xaxis": {
         "title": {
          "text": "Time"
         }
        },
        "yaxis": {
         "ticktext": [
          "NORTH",
          "NORTHEAST",
          "EAST",
          "SOUTHEAST",
          "SOUTH",
          "SOUTHWEST",
          "WEST",
          "NORTHWEST"
         ],
         "tickvals": [
          0,
          1,
          2,
          3,
          4,
          5,
          6,
          7
         ],
         "title": {
          "text": "Direction"
         }
        }
       }
      }
     },
     "metadata": {},
     "output_type": "display_data"
    }
   ],
   "source": [
    "import plotly.graph_objects as go\n",
    "\n",
    "# Define the full set of possible directions\n",
    "all_directions = ['NORTH', 'NORTHEAST', 'EAST', 'SOUTHEAST', 'SOUTH', 'SOUTHWEST', 'WEST', 'NORTHWEST']\n",
    "\n",
    "# Create a mapping from direction to numerical codes\n",
    "direction_mapping = {direction: i for i, direction in enumerate(all_directions)}\n",
    "\n",
    "# Map the directions in the dataframe to these codes\n",
    "df_dir['direction_code'] = df_dir['direction_string'].map(direction_mapping)\n",
    "\n",
    "# Create the plotly figure\n",
    "fig = go.Figure()\n",
    "\n",
    "# Add the line with markers\n",
    "fig.add_trace(go.Scatter(\n",
    "    x=df_dir.index,\n",
    "    y=df_dir['direction_code'],\n",
    "    mode='lines+markers',\n",
    "    marker=dict(size=10),\n",
    "    line=dict(width=2),\n",
    "    text=df_dir['direction_string'],  # Hover text will show the direction\n",
    "    hoverinfo='text'\n",
    "))\n",
    "\n",
    "# Update layout for the figure\n",
    "fig.update_layout(\n",
    "    title='Direction Over Time',\n",
    "    xaxis_title='Time',\n",
    "    yaxis_title='Direction',\n",
    "    yaxis=dict(\n",
    "        tickvals=[0, 1, 2, 3, 4, 5, 6, 7],  # Corresponding codes for NORTH, EAST, SOUTH, WEST\n",
    "        ticktext=all_directions,  # Explicitly set tick labels\n",
    "    ),\n",
    "    hovermode='x unified',\n",
    "    # template='plotly'\n",
    ")\n",
    "\n",
    "# Show the figure\n",
    "fig.show()\n"
   ]
  },
  {
   "cell_type": "code",
   "execution_count": null,
   "metadata": {},
   "outputs": [],
   "source": []
  }
 ],
 "metadata": {
  "kernelspec": {
   "display_name": "waves",
   "language": "python",
   "name": "python3"
  },
  "language_info": {
   "codemirror_mode": {
    "name": "ipython",
    "version": 3
   },
   "file_extension": ".py",
   "mimetype": "text/x-python",
   "name": "python",
   "nbconvert_exporter": "python",
   "pygments_lexer": "ipython3",
   "version": "3.11.9"
  }
 },
 "nbformat": 4,
 "nbformat_minor": 2
}
