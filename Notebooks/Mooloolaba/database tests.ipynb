{
 "cells": [
  {
   "cell_type": "code",
   "execution_count": 27,
   "metadata": {},
   "outputs": [],
   "source": [
    "from dotenv import load_dotenv\n",
    "import os\n",
    "import requests\n",
    "\n",
    "# Load the environment variables from the .env file\n",
    "load_dotenv()\n",
    "\n",
    "connection_string = os.getenv('SQL_CONNECTION')"
   ]
  },
  {
   "cell_type": "markdown",
   "metadata": {},
   "source": [
    "## Test database exists"
   ]
  },
  {
   "cell_type": "code",
   "execution_count": 32,
   "metadata": {},
   "outputs": [
    {
     "name": "stdout",
     "output_type": "stream",
     "text": [
      "[('2024-08-15 00:00:00', 45.0, 1.5, 5.5), ('2024-08-15 00:30:00', 50.0, 2.0, 6.0), ('2024-08-15 01:00:00', 30.0, 1.2, 5.2)]\n"
     ]
    }
   ],
   "source": [
    "import sqlitecloud\n",
    "\n",
    "# Open the connection to SQLite Cloud\n",
    "conn = sqlitecloud.connect(connection_string)\n",
    "\n",
    "# You can autoselect the database during the connect call\n",
    "# by adding the database name as path of the SQLite Cloud\n",
    "# connection string, eg:\n",
    "# conn = sqlitecloud.connect(\"sqlitecloud://myhost.sqlite.cloud:8860/mydatabase?apikey=myapikey\")\n",
    "db_name = \"chinook.sqlite\"\n",
    "conn.execute(f\"USE DATABASE {db_name}\")\n",
    "\n",
    "cursor = conn.execute(\"SELECT * FROM waves\")\n",
    "result = cursor.fetchall()\n",
    "\n",
    "print(result)\n",
    "\n",
    "conn.close()"
   ]
  },
  {
   "cell_type": "markdown",
   "metadata": {},
   "source": [
    "## Test push/overwrite data"
   ]
  },
  {
   "cell_type": "code",
   "execution_count": 18,
   "metadata": {},
   "outputs": [
    {
     "data": {
      "text/html": [
       "<div>\n",
       "<style scoped>\n",
       "    .dataframe tbody tr th:only-of-type {\n",
       "        vertical-align: middle;\n",
       "    }\n",
       "\n",
       "    .dataframe tbody tr th {\n",
       "        vertical-align: top;\n",
       "    }\n",
       "\n",
       "    .dataframe thead th {\n",
       "        text-align: right;\n",
       "    }\n",
       "</style>\n",
       "<table border=\"1\" class=\"dataframe\">\n",
       "  <thead>\n",
       "    <tr style=\"text-align: right;\">\n",
       "      <th></th>\n",
       "      <th>wave_direction</th>\n",
       "      <th>wave_height</th>\n",
       "      <th>wave_period</th>\n",
       "    </tr>\n",
       "    <tr>\n",
       "      <th>datetime</th>\n",
       "      <th></th>\n",
       "      <th></th>\n",
       "      <th></th>\n",
       "    </tr>\n",
       "  </thead>\n",
       "  <tbody>\n",
       "    <tr>\n",
       "      <th>2024-08-15 00:00:00</th>\n",
       "      <td>45.0</td>\n",
       "      <td>1.5</td>\n",
       "      <td>5.5</td>\n",
       "    </tr>\n",
       "    <tr>\n",
       "      <th>2024-08-15 00:30:00</th>\n",
       "      <td>50.0</td>\n",
       "      <td>2.0</td>\n",
       "      <td>6.0</td>\n",
       "    </tr>\n",
       "    <tr>\n",
       "      <th>2024-08-15 01:00:00</th>\n",
       "      <td>30.0</td>\n",
       "      <td>1.2</td>\n",
       "      <td>5.2</td>\n",
       "    </tr>\n",
       "  </tbody>\n",
       "</table>\n",
       "</div>"
      ],
      "text/plain": [
       "                     wave_direction  wave_height  wave_period\n",
       "datetime                                                     \n",
       "2024-08-15 00:00:00            45.0          1.5          5.5\n",
       "2024-08-15 00:30:00            50.0          2.0          6.0\n",
       "2024-08-15 01:00:00            30.0          1.2          5.2"
      ]
     },
     "execution_count": 18,
     "metadata": {},
     "output_type": "execute_result"
    }
   ],
   "source": [
    "import pandas as pd\n",
    "\n",
    "# Example: Assume `predictions_df` is the DataFrame output from your model\n",
    "predictions_df = pd.DataFrame({\n",
    "    'wave_direction': [45.0, 50.0, 30.0],\n",
    "    'wave_height': [1.5, 2.0, 1.2],\n",
    "    'wave_period': [5.5, 6.0, 5.2]\n",
    "}, index=pd.to_datetime(['2024-08-15 00:00:00', '2024-08-15 00:30:00', '2024-08-15 01:00:00']))\n",
    "predictions_df.index.name = 'datetime'\n",
    "predictions_df"
   ]
  },
  {
   "cell_type": "code",
   "execution_count": 30,
   "metadata": {},
   "outputs": [
    {
     "name": "stdout",
     "output_type": "stream",
     "text": [
      "Data appended and updated successfully.\n"
     ]
    }
   ],
   "source": [
    "import sqlitecloud\n",
    "import pandas as pd\n",
    "\n",
    "# Example DataFrame output from your model\n",
    "predictions_df = pd.DataFrame({\n",
    "    'wave_direction': [45.0, 50.0, 30.0],\n",
    "    'wave_height': [1.5, 2.0, 1.2],\n",
    "    'wave_period': [5.5, 6.0, 5.2]\n",
    "}, index=pd.to_datetime(['2024-08-15 00:00:00', '2024-08-15 00:30:00', '2024-08-15 01:00:00']))\n",
    "predictions_df.index.name = 'datetime'\n",
    "# Convert datetime index to ISO 8601 string format\n",
    "predictions_df.index = predictions_df.index.strftime('%Y-%m-%d %H:%M:%S')\n",
    "\n",
    "# Connect to the SQLiteCloud database\n",
    "conn = sqlitecloud.connect(connection_string)\n",
    "db_name = \"chinook.sqlite\"\n",
    "conn.execute(f\"USE DATABASE {db_name}\")\n",
    "\n",
    "def upsert_row(conn, datetime, wave_direction, wave_height, wave_period):\n",
    "    upsert_sql = f'''\n",
    "    INSERT INTO waves (datetime, wave_direction, wave_height, wave_period)\n",
    "    VALUES (?, ?, ?, ?)\n",
    "    ON CONFLICT(datetime) DO UPDATE SET\n",
    "        wave_direction=excluded.wave_direction,\n",
    "        wave_height=excluded.wave_height,\n",
    "        wave_period=excluded.wave_period;\n",
    "    '''\n",
    "    conn.execute(upsert_sql, (datetime, wave_direction, wave_height, wave_period))\n",
    "\n",
    "try:\n",
    "    for index, row in predictions_df.iterrows():\n",
    "        upsert_row(conn, index, row['wave_direction'], row['wave_height'], row['wave_period'])\n",
    "    \n",
    "    print(\"Data appended and updated successfully.\")\n",
    "except Exception as e:\n",
    "    print(f\"An error occurred: {e}\")\n",
    "finally:\n",
    "    conn.close()\n"
   ]
  },
  {
   "cell_type": "code",
   "execution_count": null,
   "metadata": {},
   "outputs": [],
   "source": []
  }
 ],
 "metadata": {
  "kernelspec": {
   "display_name": "waves",
   "language": "python",
   "name": "python3"
  },
  "language_info": {
   "codemirror_mode": {
    "name": "ipython",
    "version": 3
   },
   "file_extension": ".py",
   "mimetype": "text/x-python",
   "name": "python",
   "nbconvert_exporter": "python",
   "pygments_lexer": "ipython3",
   "version": "3.11.9"
  }
 },
 "nbformat": 4,
 "nbformat_minor": 2
}
