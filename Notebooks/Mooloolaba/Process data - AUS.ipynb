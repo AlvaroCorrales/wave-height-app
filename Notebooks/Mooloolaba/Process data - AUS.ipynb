{
 "cells": [
  {
   "cell_type": "markdown",
   "metadata": {},
   "source": [
    "# Processing data for wave height forecast\n",
    "In this notebook, we process the data that we use to train and fine tune our models. "
   ]
  },
  {
   "cell_type": "code",
   "execution_count": 2,
   "metadata": {},
   "outputs": [],
   "source": [
    "import pandas as pd\n",
    "import numpy as np\n",
    "import matplotlib.pyplot as plt\n",
    "import os\n",
    "\n",
    "plt.style.use('seaborn-v0_8-darkgrid')"
   ]
  },
  {
   "cell_type": "markdown",
   "metadata": {},
   "source": [
    "## 1. Wave data"
   ]
  },
  {
   "cell_type": "code",
   "execution_count": 17,
   "metadata": {},
   "outputs": [
    {
     "data": {
      "text/html": [
       "<div>\n",
       "<style scoped>\n",
       "    .dataframe tbody tr th:only-of-type {\n",
       "        vertical-align: middle;\n",
       "    }\n",
       "\n",
       "    .dataframe tbody tr th {\n",
       "        vertical-align: top;\n",
       "    }\n",
       "\n",
       "    .dataframe thead th {\n",
       "        text-align: right;\n",
       "    }\n",
       "</style>\n",
       "<table border=\"1\" class=\"dataframe\">\n",
       "  <thead>\n",
       "    <tr style=\"text-align: right;\">\n",
       "      <th></th>\n",
       "      <th>Date/Time (AEST)</th>\n",
       "      <th>Hs (m)</th>\n",
       "      <th>Hmax (m)</th>\n",
       "      <th>Tz (s)</th>\n",
       "      <th>Tp (s)</th>\n",
       "      <th>Peak Direction (degrees)</th>\n",
       "      <th>SST (degrees C)</th>\n",
       "    </tr>\n",
       "  </thead>\n",
       "  <tbody>\n",
       "    <tr>\n",
       "      <th>0</th>\n",
       "      <td>2023-01-01 00:00:00</td>\n",
       "      <td>2.126</td>\n",
       "      <td>3.10</td>\n",
       "      <td>6.688</td>\n",
       "      <td>10.737</td>\n",
       "      <td>85.0</td>\n",
       "      <td>25.10</td>\n",
       "    </tr>\n",
       "    <tr>\n",
       "      <th>1</th>\n",
       "      <td>2023-01-01 00:30:00</td>\n",
       "      <td>2.049</td>\n",
       "      <td>2.90</td>\n",
       "      <td>6.595</td>\n",
       "      <td>10.191</td>\n",
       "      <td>90.0</td>\n",
       "      <td>25.10</td>\n",
       "    </tr>\n",
       "    <tr>\n",
       "      <th>2</th>\n",
       "      <td>2023-01-01 01:00:00</td>\n",
       "      <td>2.126</td>\n",
       "      <td>3.46</td>\n",
       "      <td>6.856</td>\n",
       "      <td>11.378</td>\n",
       "      <td>80.0</td>\n",
       "      <td>25.10</td>\n",
       "    </tr>\n",
       "    <tr>\n",
       "      <th>3</th>\n",
       "      <td>2023-01-01 01:30:00</td>\n",
       "      <td>2.105</td>\n",
       "      <td>3.33</td>\n",
       "      <td>6.637</td>\n",
       "      <td>10.748</td>\n",
       "      <td>94.0</td>\n",
       "      <td>25.05</td>\n",
       "    </tr>\n",
       "    <tr>\n",
       "      <th>4</th>\n",
       "      <td>2023-01-01 02:00:00</td>\n",
       "      <td>1.876</td>\n",
       "      <td>3.02</td>\n",
       "      <td>6.286</td>\n",
       "      <td>10.223</td>\n",
       "      <td>84.0</td>\n",
       "      <td>25.05</td>\n",
       "    </tr>\n",
       "    <tr>\n",
       "      <th>...</th>\n",
       "      <td>...</td>\n",
       "      <td>...</td>\n",
       "      <td>...</td>\n",
       "      <td>...</td>\n",
       "      <td>...</td>\n",
       "      <td>...</td>\n",
       "      <td>...</td>\n",
       "    </tr>\n",
       "    <tr>\n",
       "      <th>4363</th>\n",
       "      <td>2024-03-31 21:30:00</td>\n",
       "      <td>1.251</td>\n",
       "      <td>2.22</td>\n",
       "      <td>4.937</td>\n",
       "      <td>7.038</td>\n",
       "      <td>125.0</td>\n",
       "      <td>25.70</td>\n",
       "    </tr>\n",
       "    <tr>\n",
       "      <th>4364</th>\n",
       "      <td>2024-03-31 22:00:00</td>\n",
       "      <td>1.315</td>\n",
       "      <td>2.30</td>\n",
       "      <td>5.370</td>\n",
       "      <td>7.366</td>\n",
       "      <td>83.0</td>\n",
       "      <td>25.70</td>\n",
       "    </tr>\n",
       "    <tr>\n",
       "      <th>4365</th>\n",
       "      <td>2024-03-31 22:30:00</td>\n",
       "      <td>1.254</td>\n",
       "      <td>2.15</td>\n",
       "      <td>5.186</td>\n",
       "      <td>8.166</td>\n",
       "      <td>85.0</td>\n",
       "      <td>25.70</td>\n",
       "    </tr>\n",
       "    <tr>\n",
       "      <th>4366</th>\n",
       "      <td>2024-03-31 23:00:00</td>\n",
       "      <td>1.190</td>\n",
       "      <td>1.88</td>\n",
       "      <td>4.951</td>\n",
       "      <td>7.336</td>\n",
       "      <td>85.0</td>\n",
       "      <td>25.65</td>\n",
       "    </tr>\n",
       "    <tr>\n",
       "      <th>4367</th>\n",
       "      <td>2024-03-31 23:30:00</td>\n",
       "      <td>1.219</td>\n",
       "      <td>1.92</td>\n",
       "      <td>5.260</td>\n",
       "      <td>7.274</td>\n",
       "      <td>85.0</td>\n",
       "      <td>25.70</td>\n",
       "    </tr>\n",
       "  </tbody>\n",
       "</table>\n",
       "<p>39408 rows × 7 columns</p>\n",
       "</div>"
      ],
      "text/plain": [
       "         Date/Time (AEST)  Hs (m)  Hmax (m)  Tz (s)  Tp (s)  \\\n",
       "0     2023-01-01 00:00:00   2.126      3.10   6.688  10.737   \n",
       "1     2023-01-01 00:30:00   2.049      2.90   6.595  10.191   \n",
       "2     2023-01-01 01:00:00   2.126      3.46   6.856  11.378   \n",
       "3     2023-01-01 01:30:00   2.105      3.33   6.637  10.748   \n",
       "4     2023-01-01 02:00:00   1.876      3.02   6.286  10.223   \n",
       "...                   ...     ...       ...     ...     ...   \n",
       "4363  2024-03-31 21:30:00   1.251      2.22   4.937   7.038   \n",
       "4364  2024-03-31 22:00:00   1.315      2.30   5.370   7.366   \n",
       "4365  2024-03-31 22:30:00   1.254      2.15   5.186   8.166   \n",
       "4366  2024-03-31 23:00:00   1.190      1.88   4.951   7.336   \n",
       "4367  2024-03-31 23:30:00   1.219      1.92   5.260   7.274   \n",
       "\n",
       "      Peak Direction (degrees)  SST (degrees C)  \n",
       "0                         85.0            25.10  \n",
       "1                         90.0            25.10  \n",
       "2                         80.0            25.10  \n",
       "3                         94.0            25.05  \n",
       "4                         84.0            25.05  \n",
       "...                        ...              ...  \n",
       "4363                     125.0            25.70  \n",
       "4364                      83.0            25.70  \n",
       "4365                      85.0            25.70  \n",
       "4366                      85.0            25.65  \n",
       "4367                      85.0            25.70  \n",
       "\n",
       "[39408 rows x 7 columns]"
      ]
     },
     "execution_count": 17,
     "metadata": {},
     "output_type": "execute_result"
    }
   ],
   "source": [
    "# Read raw data\n",
    "# ==============================================================================\n",
    "# Directory containing the CSV files\n",
    "directory = '/Users/alvarocorralescano/Documents/GitHub/wave-height-app/Data/mooloolaba'\n",
    "\n",
    "# List all CSV files in the directory\n",
    "csv_files = [f for f in os.listdir(directory) if f.endswith('.csv')]\n",
    "\n",
    "# List to store each DataFrame\n",
    "df_list = []\n",
    "\n",
    "# Read each CSV file and append it to the list\n",
    "for file in csv_files:\n",
    "    file_path = os.path.join(directory, file)\n",
    "    _df = pd.read_csv(file_path)\n",
    "    \n",
    "    # Assume the datetime column is named 'datetime_column_name', change as needed\n",
    "    _df['Date/Time (AEST)'] = pd.to_datetime(_df['Date/Time (AEST)'])\n",
    "    \n",
    "    # Convert datetime to desired format\n",
    "    _df['Date/Time (AEST)'] = _df['Date/Time (AEST)'].dt.strftime('%Y-%m-%d %H:%M:%S')\n",
    "    \n",
    "    df_list.append(_df)\n",
    "\n",
    "# Concatenate all DataFrames vertically\n",
    "df = pd.concat(df_list)\n",
    "df.drop(columns = ['_id'], inplace = True)\n",
    "\n",
    "# Now, combined_df contains all the data stacked on top of each other\n",
    "df"
   ]
  },
  {
   "cell_type": "code",
   "execution_count": 18,
   "metadata": {},
   "outputs": [
    {
     "name": "stdout",
     "output_type": "stream",
     "text": [
      "(39408, 6)\n"
     ]
    },
    {
     "data": {
      "text/html": [
       "<div>\n",
       "<style scoped>\n",
       "    .dataframe tbody tr th:only-of-type {\n",
       "        vertical-align: middle;\n",
       "    }\n",
       "\n",
       "    .dataframe tbody tr th {\n",
       "        vertical-align: top;\n",
       "    }\n",
       "\n",
       "    .dataframe thead th {\n",
       "        text-align: right;\n",
       "    }\n",
       "</style>\n",
       "<table border=\"1\" class=\"dataframe\">\n",
       "  <thead>\n",
       "    <tr style=\"text-align: right;\">\n",
       "      <th></th>\n",
       "      <th>wave_height_significant</th>\n",
       "      <th>wave_height_max</th>\n",
       "      <th>wave_period_upx</th>\n",
       "      <th>wave_period_peak</th>\n",
       "      <th>wave_direction</th>\n",
       "      <th>sea_temperature</th>\n",
       "    </tr>\n",
       "    <tr>\n",
       "      <th>datetime</th>\n",
       "      <th></th>\n",
       "      <th></th>\n",
       "      <th></th>\n",
       "      <th></th>\n",
       "      <th></th>\n",
       "      <th></th>\n",
       "    </tr>\n",
       "  </thead>\n",
       "  <tbody>\n",
       "    <tr>\n",
       "      <th>2022-01-01 00:00:00</th>\n",
       "      <td>2.477</td>\n",
       "      <td>4.110</td>\n",
       "      <td>6.136</td>\n",
       "      <td>8.230</td>\n",
       "      <td>90.0</td>\n",
       "      <td>25.75</td>\n",
       "    </tr>\n",
       "    <tr>\n",
       "      <th>2022-01-01 00:30:00</th>\n",
       "      <td>2.259</td>\n",
       "      <td>3.240</td>\n",
       "      <td>5.871</td>\n",
       "      <td>8.179</td>\n",
       "      <td>98.0</td>\n",
       "      <td>25.75</td>\n",
       "    </tr>\n",
       "    <tr>\n",
       "      <th>2022-01-01 01:00:00</th>\n",
       "      <td>2.268</td>\n",
       "      <td>4.280</td>\n",
       "      <td>5.752</td>\n",
       "      <td>8.174</td>\n",
       "      <td>87.0</td>\n",
       "      <td>25.80</td>\n",
       "    </tr>\n",
       "    <tr>\n",
       "      <th>2022-01-01 01:30:00</th>\n",
       "      <td>2.452</td>\n",
       "      <td>3.970</td>\n",
       "      <td>5.987</td>\n",
       "      <td>8.719</td>\n",
       "      <td>80.0</td>\n",
       "      <td>25.80</td>\n",
       "    </tr>\n",
       "    <tr>\n",
       "      <th>2022-01-01 02:00:00</th>\n",
       "      <td>2.260</td>\n",
       "      <td>3.514</td>\n",
       "      <td>5.824</td>\n",
       "      <td>8.654</td>\n",
       "      <td>90.0</td>\n",
       "      <td>25.75</td>\n",
       "    </tr>\n",
       "    <tr>\n",
       "      <th>2022-01-01 02:30:00</th>\n",
       "      <td>2.386</td>\n",
       "      <td>3.770</td>\n",
       "      <td>6.160</td>\n",
       "      <td>8.895</td>\n",
       "      <td>90.0</td>\n",
       "      <td>25.75</td>\n",
       "    </tr>\n",
       "    <tr>\n",
       "      <th>2022-01-01 03:00:00</th>\n",
       "      <td>2.462</td>\n",
       "      <td>4.490</td>\n",
       "      <td>6.032</td>\n",
       "      <td>8.730</td>\n",
       "      <td>84.0</td>\n",
       "      <td>25.80</td>\n",
       "    </tr>\n",
       "    <tr>\n",
       "      <th>2022-01-01 03:30:00</th>\n",
       "      <td>2.321</td>\n",
       "      <td>3.640</td>\n",
       "      <td>6.110</td>\n",
       "      <td>8.255</td>\n",
       "      <td>80.0</td>\n",
       "      <td>25.75</td>\n",
       "    </tr>\n",
       "    <tr>\n",
       "      <th>2022-01-01 04:00:00</th>\n",
       "      <td>2.481</td>\n",
       "      <td>4.742</td>\n",
       "      <td>6.230</td>\n",
       "      <td>8.586</td>\n",
       "      <td>83.0</td>\n",
       "      <td>25.75</td>\n",
       "    </tr>\n",
       "    <tr>\n",
       "      <th>2022-01-01 04:30:00</th>\n",
       "      <td>2.292</td>\n",
       "      <td>4.010</td>\n",
       "      <td>5.966</td>\n",
       "      <td>8.589</td>\n",
       "      <td>83.0</td>\n",
       "      <td>25.75</td>\n",
       "    </tr>\n",
       "  </tbody>\n",
       "</table>\n",
       "</div>"
      ],
      "text/plain": [
       "                     wave_height_significant  wave_height_max  \\\n",
       "datetime                                                        \n",
       "2022-01-01 00:00:00                    2.477            4.110   \n",
       "2022-01-01 00:30:00                    2.259            3.240   \n",
       "2022-01-01 01:00:00                    2.268            4.280   \n",
       "2022-01-01 01:30:00                    2.452            3.970   \n",
       "2022-01-01 02:00:00                    2.260            3.514   \n",
       "2022-01-01 02:30:00                    2.386            3.770   \n",
       "2022-01-01 03:00:00                    2.462            4.490   \n",
       "2022-01-01 03:30:00                    2.321            3.640   \n",
       "2022-01-01 04:00:00                    2.481            4.742   \n",
       "2022-01-01 04:30:00                    2.292            4.010   \n",
       "\n",
       "                     wave_period_upx  wave_period_peak  wave_direction  \\\n",
       "datetime                                                                 \n",
       "2022-01-01 00:00:00            6.136             8.230            90.0   \n",
       "2022-01-01 00:30:00            5.871             8.179            98.0   \n",
       "2022-01-01 01:00:00            5.752             8.174            87.0   \n",
       "2022-01-01 01:30:00            5.987             8.719            80.0   \n",
       "2022-01-01 02:00:00            5.824             8.654            90.0   \n",
       "2022-01-01 02:30:00            6.160             8.895            90.0   \n",
       "2022-01-01 03:00:00            6.032             8.730            84.0   \n",
       "2022-01-01 03:30:00            6.110             8.255            80.0   \n",
       "2022-01-01 04:00:00            6.230             8.586            83.0   \n",
       "2022-01-01 04:30:00            5.966             8.589            83.0   \n",
       "\n",
       "                     sea_temperature  \n",
       "datetime                              \n",
       "2022-01-01 00:00:00            25.75  \n",
       "2022-01-01 00:30:00            25.75  \n",
       "2022-01-01 01:00:00            25.80  \n",
       "2022-01-01 01:30:00            25.80  \n",
       "2022-01-01 02:00:00            25.75  \n",
       "2022-01-01 02:30:00            25.75  \n",
       "2022-01-01 03:00:00            25.80  \n",
       "2022-01-01 03:30:00            25.75  \n",
       "2022-01-01 04:00:00            25.75  \n",
       "2022-01-01 04:30:00            25.75  "
      ]
     },
     "execution_count": 18,
     "metadata": {},
     "output_type": "execute_result"
    }
   ],
   "source": [
    "# Slice off variable of interest\n",
    "# ==============================================================================\n",
    "df.rename(columns = {\n",
    "    'Date/Time (AEST)':'datetime',\n",
    "    'Hs (m)': 'wave_height_significant', \n",
    "    'Hmax (m)':'wave_height_max',\n",
    "    'Tz (s)':'wave_period_upx',\n",
    "    'Tp (s)':'wave_period_peak',\n",
    "    'Peak Direction (degrees)': 'wave_direction',\n",
    "    'SST (degrees C)':'sea_temperature'\n",
    "    }, inplace = True)\n",
    "df['datetime'] = pd.to_datetime(df['datetime'])\n",
    "df.sort_values(by=['datetime'], inplace=True)\n",
    "df.set_index(keys = 'datetime', inplace=True)\n",
    "df = df.asfreq('30min')\n",
    "\n",
    "print(df.shape)\n",
    "df.head(10)"
   ]
  },
  {
   "cell_type": "code",
   "execution_count": 20,
   "metadata": {},
   "outputs": [
    {
     "data": {
      "image/png": "[encoded data removed]",
      "text/plain": [
       "<Figure size 1000x500 with 2 Axes>"
      ]
     },
     "metadata": {},
     "output_type": "display_data"
    }
   ],
   "source": [
    "# Plot raw data\n",
    "# ==============================================================================\n",
    "fig, ax = plt.subplots(2, 1, figsize=(10, 5), sharex=True)  # Share x-axis\n",
    "\n",
    "# Plot data\n",
    "df['wave_height_max'].plot(ax=ax[0], color='lightseagreen')\n",
    "df['wave_period_upx'].plot(ax=ax[1], color='orange')\n",
    "\n",
    "# Set titles and labels\n",
    "ax[0].set_title('30 min wave heights in Mooloolaba')\n",
    "ax[1].set_title('30 min wave periods in Mooloolaba')\n",
    "ax[0].set_ylabel('Meters')\n",
    "ax[1].set_ylabel('Seconds')\n",
    "\n",
    "# Customize x-axis ticks and labels\n",
    "xticks = pd.date_range(start=df.index.min(), end=df.index.max(), freq='3M')\n",
    "ax[1].set_xticks(xticks)\n",
    "ax[1].set_xticklabels(xticks.strftime('%Y-%m'), rotation=45)\n",
    "\n",
    "# Add grid\n",
    "for axis in ax:\n",
    "    axis.grid(True)\n",
    "\n",
    "plt.tight_layout()  # Adjust layout\n",
    "plt.show()  # Display the plot"
   ]
  },
  {
   "cell_type": "markdown",
   "metadata": {},
   "source": [
    "### Dealing with null values. \n",
    "Null value is -99.900\n"
   ]
  },
  {
   "cell_type": "code",
   "execution_count": 33,
   "metadata": {},
   "outputs": [
    {
     "name": "stdout",
     "output_type": "stream",
     "text": [
      "wave_height_max\n",
      "-99.90    762\n",
      " 1.64     220\n",
      " 1.59     218\n",
      " 1.63     218\n",
      " 1.41     214\n",
      "Name: count, dtype: int64\n",
      "wave_period_upx\n",
      "-99.900    762\n",
      " 5.489      29\n",
      " 4.851      29\n",
      " 5.608      28\n",
      " 5.278      28\n",
      "Name: count, dtype: int64\n"
     ]
    }
   ],
   "source": [
    "print(df['wave_height_max'].value_counts().head())\n",
    "print(df['wave_period_upx'].value_counts().head())"
   ]
  },
  {
   "cell_type": "code",
   "execution_count": 31,
   "metadata": {},
   "outputs": [
    {
     "name": "stdout",
     "output_type": "stream",
     "text": [
      "Percentage of data missing: 1.93\n"
     ]
    }
   ],
   "source": [
    "print('Percentage of data missing:', round(100 * 762/len(df),2))"
   ]
  },
  {
   "cell_type": "markdown",
   "metadata": {},
   "source": [
    "We transform -99.9 into NaN, as it can be processed by XGBoost."
   ]
  },
  {
   "cell_type": "code",
   "execution_count": 40,
   "metadata": {},
   "outputs": [
    {
     "data": {
      "text/plain": [
       "wave_height_significant    762\n",
       "wave_height_max            762\n",
       "wave_period_upx            762\n",
       "wave_period_peak           762\n",
       "wave_direction             797\n",
       "sea_temperature            780\n",
       "dtype: int64"
      ]
     },
     "execution_count": 40,
     "metadata": {},
     "output_type": "execute_result"
    }
   ],
   "source": [
    "df = df.replace(-99.9, np.nan)\n",
    "df.isnull().sum()"
   ]
  },
  {
   "cell_type": "markdown",
   "metadata": {},
   "source": [
    "## Save"
   ]
  },
  {
   "cell_type": "code",
   "execution_count": 49,
   "metadata": {},
   "outputs": [],
   "source": [
    "dir = '/Users/alvarocorralescano/Documents/GitHub/wave-height-app/Data/mooloolaba'\n",
    "file = '/mool_all.csv'\n",
    "df.to_csv(dir + file)"
   ]
  },
  {
   "cell_type": "code",
   "execution_count": 48,
   "metadata": {},
   "outputs": [
    {
     "name": "stdout",
     "output_type": "stream",
     "text": [
      "/bin/bash: line 0: cd: ././Data: No such file or directory\n"
     ]
    }
   ],
   "source": [
    "\n"
   ]
  },
  {
   "cell_type": "markdown",
   "metadata": {},
   "source": [
    "## Old"
   ]
  },
  {
   "cell_type": "code",
   "execution_count": 48,
   "metadata": {},
   "outputs": [
    {
     "data": {
      "text/plain": [
       "wave_height  wave_period  wave_direction\n",
       "False        False        False             35088\n",
       "Name: count, dtype: int64"
      ]
     },
     "execution_count": 48,
     "metadata": {},
     "output_type": "execute_result"
    }
   ],
   "source": [
    "# Impute missing values\n",
    "# ==============================================================================\n",
    "def fill_null_with_weekly_average(df, column_names):\n",
    "    # Ensure the index is a DateTimeIndex\n",
    "    if not isinstance(df.index, pd.DatetimeIndex):\n",
    "        df.index = pd.to_datetime(df.index)\n",
    "\n",
    "    for column_name in column_names:\n",
    "\n",
    "        # Calculate the weekly average\n",
    "        weekly_avg = df[column_name].resample('W').mean()\n",
    "\n",
    "        # Forward-fill the weekly average to match the original index\n",
    "        weekly_avg_filled = weekly_avg.reindex(df.index, method='ffill')\n",
    "\n",
    "        # Fill null values in the original series with the corresponding weekly average\n",
    "        df[column_name].fillna(weekly_avg_filled, inplace=True)\n",
    "\n",
    "    return df\n",
    "\n",
    "df = fill_null_with_weekly_average(df, ['wave_height', 'wave_period', 'wave_direction'])\n",
    "\n",
    "df.isnull().value_counts()"
   ]
  }
 ],
 "metadata": {
  "kernelspec": {
   "display_name": "base",
   "language": "python",
   "name": "python3"
  },
  "language_info": {
   "codemirror_mode": {
    "name": "ipython",
    "version": 3
   },
   "file_extension": ".py",
   "mimetype": "text/x-python",
   "name": "python",
   "nbconvert_exporter": "python",
   "pygments_lexer": "ipython3",
   "version": "3.11.9"
  },
  "orig_nbformat": 4
 },
 "nbformat": 4,
 "nbformat_minor": 2
}
