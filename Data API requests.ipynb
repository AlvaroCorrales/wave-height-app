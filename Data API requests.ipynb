{
 "cells": [
  {
   "cell_type": "code",
   "execution_count": 1,
   "metadata": {},
   "outputs": [],
   "source": [
    "import requests\n",
    "import datetime\n",
    "\n",
    "# Define the base URL and resource ID\n",
    "base_url = 'https://www.data.qld.gov.au/api/3/action/datastore_search'\n",
    "resource_id = '2bbef99e-9974-49b9-a316-57402b00609c'\n",
    "\n",
    "# Get the current time and calculate the time 24 hours ago\n",
    "now = datetime.datetime.utcnow()\n",
    "last_24_hours = now - datetime.timedelta(hours=24)\n",
    "\n",
    "# Format the time for filtering\n",
    "time_filter = last_24_hours.strftime('%Y-%m-%dT%H:%M:%SZ')\n",
    "\n",
    "# Define the filter query to get data for the last 24 hours at Mooloolaba\n",
    "filters = {\n",
    "    \"site\": \"Mooloolaba\",\n",
    "    \"timestamp\": {\n",
    "        \"$gte\": time_filter\n",
    "    }\n",
    "}\n",
    "\n",
    "# Define the parameters for the request\n",
    "params = {\n",
    "    'resource_id': resource_id,\n",
    "    'q': filters,\n",
    "    'limit': 48  # Since the granularity is 30 minutes, 48 observations will cover 24 hours\n",
    "}\n",
    "\n",
    "# Make the request\n",
    "response = requests.get(base_url, params=params)\n",
    "\n",
    "# Check if the request was successful\n",
    "if response.status_code == 200:\n",
    "    data = response.json()\n",
    "    records = data.get('result', {}).get('records', [])\n",
    "    for record in records:\n",
    "        print(record)\n",
    "else:\n",
    "    print(f\"Error: {response.status_code} - {response.text}\")\n"
   ]
  },
  {
   "cell_type": "code",
   "execution_count": 2,
   "metadata": {},
   "outputs": [
    {
     "data": {
      "text/plain": [
       "{'help': 'https://www.data.qld.gov.au/api/3/action/help_show?name=datastore_search',\n",
       " 'success': True,\n",
       " 'result': {'include_total': True,\n",
       "  'limit': 48,\n",
       "  'q': \"['site', 'timestamp']\",\n",
       "  'records_format': 'objects',\n",
       "  'resource_id': '2bbef99e-9974-49b9-a316-57402b00609c',\n",
       "  'total_estimation_threshold': None,\n",
       "  'records': [],\n",
       "  'fields': [{'id': '_id', 'type': 'int'},\n",
       "   {'id': 'Site', 'type': 'text'},\n",
       "   {'id': 'SiteNumber', 'type': 'text'},\n",
       "   {'id': 'Seconds', 'type': 'text'},\n",
       "   {'id': 'DateTime', 'type': 'text'},\n",
       "   {'id': 'Latitude', 'type': 'text'},\n",
       "   {'id': 'Longitude', 'type': 'text'},\n",
       "   {'id': 'Hsig', 'type': 'text'},\n",
       "   {'id': 'Hmax', 'type': 'text'},\n",
       "   {'id': 'Tp', 'type': 'text'},\n",
       "   {'id': 'Tz', 'type': 'text'},\n",
       "   {'id': 'SST', 'type': 'text'},\n",
       "   {'id': 'Direction', 'type': 'text'},\n",
       "   {'id': 'Current Speed', 'type': 'text'},\n",
       "   {'id': 'Current Direction', 'type': 'text'},\n",
       "   {'id': 'rank', 'type': 'float'}],\n",
       "  '_links': {'start': '/api/3/action/datastore_search?limit=48&q=timestamp&resource_id=2bbef99e-9974-49b9-a316-57402b00609c',\n",
       "   'next': '/api/3/action/datastore_search?limit=48&q=timestamp&resource_id=2bbef99e-9974-49b9-a316-57402b00609c&offset=48'},\n",
       "  'total': 0,\n",
       "  'total_was_estimated': False}}"
      ]
     },
     "execution_count": 2,
     "metadata": {},
     "output_type": "execute_result"
    }
   ],
   "source": [
    "data"
   ]
  },
  {
   "cell_type": "code",
   "execution_count": 7,
   "metadata": {},
   "outputs": [
    {
     "name": "stdout",
     "output_type": "stream",
     "text": [
      "b'{\"help\": \"https://www.data.qld.gov.au/api/3/action/help_show?name=datastore_search\", \"success\": true, \"result\": {\"include_total\": true, \"limit\": 5, \"records_format\": \"objects\", \"resource_id\": \"2bbef99e-9974-49b9-a316-57402b00609c\", \"total_estimation_threshold\": null, \"records\": [{\"_id\":1,\"Site\":\"Caloundra\",\"SiteNumber\":\"54\",\"Seconds\":\"1722607200\",\"DateTime\":\"2024-08-03T00:00:00\",\"Latitude\":\"-26.84552\",\"Longitude\":\"153.15482\",\"Hsig\":\"0.885\",\"Hmax\":\"1.420\",\"Tp\":\"12.500\",\"Tz\":\"6.250\",\"SST\":\"19.85\",\"Direction\":\"98.40\",\"Current Speed\":\"-99.90\",\"Current Direction\":\"-99.90\"},{\"_id\":2,\"Site\":\"Caloundra\",\"SiteNumber\":\"54\",\"Seconds\":\"1722609000\",\"DateTime\":\"2024-08-03T00:30:00\",\"Latitude\":\"-26.84550\",\"Longitude\":\"153.15480\",\"Hsig\":\"0.915\",\"Hmax\":\"1.690\",\"Tp\":\"11.110\",\"Tz\":\"6.061\",\"SST\":\"20.10\",\"Direction\":\"95.60\",\"Current Speed\":\"-99.90\",\"Current Direction\":\"-99.90\"},{\"_id\":3,\"Site\":\"Caloundra\",\"SiteNumber\":\"54\",\"Seconds\":\"1722610800\",\"DateTime\":\"2024-08-03T01:00:00\",\"Latitude\":\"-26.84549\",\"Longitude\":\"153.15476\",\"Hsig\":\"0.800\",\"Hmax\":\"1.420\",\"Tp\":\"11.760\",\"Tz\":\"6.349\",\"SST\":\"20.25\",\"Direction\":\"105.50\",\"Current Speed\":\"-99.90\",\"Current Direction\":\"-99.90\"},{\"_id\":4,\"Site\":\"Caloundra\",\"SiteNumber\":\"54\",\"Seconds\":\"1722612600\",\"DateTime\":\"2024-08-03T01:30:00\",\"Latitude\":\"-26.84549\",\"Longitude\":\"153.15474\",\"Hsig\":\"0.874\",\"Hmax\":\"1.350\",\"Tp\":\"11.760\",\"Tz\":\"6.061\",\"SST\":\"19.85\",\"Direction\":\"112.50\",\"Current Speed\":\"-99.90\",\"Current Direction\":\"-99.90\"},{\"_id\":5,\"Site\":\"Caloundra\",\"SiteNumber\":\"54\",\"Seconds\":\"1722614400\",\"DateTime\":\"2024-08-03T02:00:00\",\"Latitude\":\"-26.84549\",\"Longitude\":\"153.15469\",\"Hsig\":\"0.767\",\"Hmax\":\"1.170\",\"Tp\":\"11.760\",\"Tz\":\"6.557\",\"SST\":\"19.55\",\"Direction\":\"97.00\",\"Current Speed\":\"-99.90\",\"Current Direction\":\"-99.90\"}], \"fields\": [{\"id\": \"_id\", \"type\": \"int\"}, {\"id\": \"Site\", \"type\": \"text\"}, {\"id\": \"SiteNumber\", \"type\": \"text\"}, {\"id\": \"Seconds\", \"type\": \"text\"}, {\"id\": \"DateTime\", \"type\": \"text\"}, {\"id\": \"Latitude\", \"type\": \"text\"}, {\"id\": \"Longitude\", \"type\": \"text\"}, {\"id\": \"Hsig\", \"type\": \"text\"}, {\"id\": \"Hmax\", \"type\": \"text\"}, {\"id\": \"Tp\", \"type\": \"text\"}, {\"id\": \"Tz\", \"type\": \"text\"}, {\"id\": \"SST\", \"type\": \"text\"}, {\"id\": \"Direction\", \"type\": \"text\"}, {\"id\": \"Current Speed\", \"type\": \"text\"}, {\"id\": \"Current Direction\", \"type\": \"text\"}], \"_links\": {\"start\": \"/api/3/action/datastore_search?limit=5&resource_id=2bbef99e-9974-49b9-a316-57402b00609c\", \"next\": \"/api/3/action/datastore_search?limit=5&resource_id=2bbef99e-9974-49b9-a316-57402b00609c&offset=5\"}, \"total\": 7180, \"total_was_estimated\": false}}'\n"
     ]
    }
   ],
   "source": [
    "import urllib.request\n",
    "url = 'https://www.data.qld.gov.au/api/3/action/datastore_search?resource_id=2bbef99e-9974-49b9-a316-57402b00609c&limit=5'\n",
    "fileobj = urllib.request.urlopen(url)\n",
    "print(fileobj.read())"
   ]
  },
  {
   "cell_type": "code",
   "execution_count": 5,
   "metadata": {},
   "outputs": [
    {
     "data": {
      "text/plain": [
       "b''"
      ]
     },
     "execution_count": 5,
     "metadata": {},
     "output_type": "execute_result"
    }
   ],
   "source": []
  },
  {
   "cell_type": "code",
   "execution_count": null,
   "metadata": {},
   "outputs": [],
   "source": []
  }
 ],
 "metadata": {
  "kernelspec": {
   "display_name": "waves",
   "language": "python",
   "name": "python3"
  },
  "language_info": {
   "codemirror_mode": {
    "name": "ipython",
    "version": 3
   },
   "file_extension": ".py",
   "mimetype": "text/x-python",
   "name": "python",
   "nbconvert_exporter": "python",
   "pygments_lexer": "ipython3",
   "version": "3.11.9"
  }
 },
 "nbformat": 4,
 "nbformat_minor": 2
}
